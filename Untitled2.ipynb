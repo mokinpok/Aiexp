{
 "cells": [
  {
   "cell_type": "code",
   "execution_count": null,
   "id": "08d453a3",
   "metadata": {},
   "outputs": [],
   "source": [
    "import numpy as np\n",
    "Day_number = np.arange(1,11)\n",
    "Step_walked = [6012,7079,6886,7230,4598,5564,6971,7763,8032,9569]\n",
    "arr = np.array([Day_number,Step_walked])\n",
    "arr =arr."
   ]
  }
 ],
 "metadata": {
  "kernelspec": {
   "display_name": "Python 3 (ipykernel)",
   "language": "python",
   "name": "python3"
  },
  "language_info": {
   "codemirror_mode": {
    "name": "ipython",
    "version": 3
   },
   "file_extension": ".py",
   "mimetype": "text/x-python",
   "name": "python",
   "nbconvert_exporter": "python",
   "pygments_lexer": "ipython3",
   "version": "3.11.4"
  }
 },
 "nbformat": 4,
 "nbformat_minor": 5
}
